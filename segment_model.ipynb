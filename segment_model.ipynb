{
 "cells": [
  {
   "cell_type": "code",
   "execution_count": null,
   "metadata": {
    "colab": {
     "base_uri": "https://localhost:8080/"
    },
    "collapsed": true,
    "id": "U8e04H7YFbSi",
    "outputId": "1697917c-c774-4b78-db97-8cadd8a68faf"
   },
   "outputs": [],
   "source": [
    "import pandas as pd\n",
    "import random\n",
    "import os\n",
    "import numpy as np\n",
    "\n",
    "from google.colab import drive\n",
    "drive.mount('/content/drive')\n",
    "\n",
    "train_path = '/content/drive/MyDrive/블루문/신용카드 세그먼트/card_train.csv'\n",
    "test_path = '/content/drive/MyDrive/블루문/신용카드 세그먼트/card_test.csv'\n",
    "\n",
    "train_df = pd.read_csv(train_path)\n",
    "train_df.shape\n",
    "\n",
    "#시계열 데이터\n",
    "for i in train_df.columns:\n",
    "  print(i)\n",
    "\n",
    "X = train_df.drop(columns=['ID', 'Unnamed: 0.1', 'Segment.1', 'Segment'])\n",
    "Y = train_df['Segment']"
   ]
  },
  {
   "cell_type": "markdown",
   "metadata": {
    "id": "oYKJtFrPF4iA"
   },
   "source": [
    "금융 정보 & 연체/잔액 관련\n",
    "신용 위험 & 금융 습관 분석"
   ]
  },
  {
   "cell_type": "code",
   "execution_count": null,
   "metadata": {
    "colab": {
     "base_uri": "https://localhost:8080/"
    },
    "id": "TNveTj6FF46i",
    "outputId": "35ab6568-6b11-497a-ddbd-18883a2c121e"
   },
   "outputs": [],
   "source": [
    "import pandas as pd\n",
    "# 1) 파일 경로 지정\n",
    "train_path = '/content/drive/MyDrive/블루문/신용카드 세그먼트/card_train.csv'\n",
    "test_path  = '/content/drive/MyDrive/블루문/신용카드 세그먼트/card_test.csv'\n",
    "\n",
    "# 2) 데이터 로드\n",
    "train = pd.read_csv(train_path)\n",
    "test  = pd.read_csv(test_path)\n",
    "\n",
    "# 3) 금융정보_연체잔액 키워드 정의\n",
    "keywords = [\n",
    "    '한도','이자율','RV약정청구율','RV최소결제비율',\n",
    "    '잔액','평잔','변동률','연체','RP'\n",
    "]\n",
    "\n",
    "# 4) train에서 키워드 매칭 컬럼 추출\n",
    "financial_train = [c for c in train.columns if any(k in c for k in keywords)]\n",
    "\n",
    "# 5) test에도 동일한 컬럼이 있는지 확인 (train↔test 간 mismatch 방지)\n",
    "financial_common = [c for c in financial_train if c in test.columns]\n",
    "\n",
    "print(f\"매칭된 공통 컬럼 수: {len(financial_common)}개\")\n",
    "print(financial_common)"
   ]
  },
  {
   "cell_type": "code",
   "execution_count": null,
   "metadata": {
    "colab": {
     "base_uri": "https://localhost:8080/"
    },
    "collapsed": true,
    "id": "f36osMlrGIvx",
    "outputId": "cc1281f6-164b-40d0-92f5-d3c33a2ddd9d"
   },
   "outputs": [],
   "source": [
    "import pandas as pd\n",
    "\n",
    "# 1. 데이터 로드\n",
    "train_path = '/content/drive/MyDrive/블루문/신용카드 세그먼트/card_train.csv'\n",
    "test_path = '/content/drive/MyDrive/블루문/신용카드 세그먼트/card_test.csv'\n",
    "train = pd.read_csv(train_path)\n",
    "\n",
    "# 2. 금융정보_연체 관련 키워드로 컬럼 필터링\n",
    "keywords = ['한도','이자율','RV약정청구율','RV최소결제비율','잔액','평잔','변동률','연체','RP']\n",
    "financial_common = [col for col in train.columns if any(k in col for k in keywords)]\n",
    "\n",
    "# 3. 결측치 개수 및 비율 계산\n",
    "missing_count = train[financial_common].isna().sum()\n",
    "missing_pct = (missing_count / len(train)) * 100\n",
    "\n",
    "# 4. 데이터프레임으로 정리\n",
    "missing_df = pd.DataFrame({\n",
    "    'missing_count': missing_count,\n",
    "    'missing_pct(%)': missing_pct.round(2)\n",
    "}).sort_values(by='missing_pct(%)', ascending=False)\n",
    "\n",
    "# 5. 출력\n",
    "print(f\"총 샘플 수: {len(train)}\")\n",
    "print(missing_df.head(20))\n"
   ]
  },
  {
   "cell_type": "code",
   "execution_count": null,
   "metadata": {
    "colab": {
     "base_uri": "https://localhost:8080/",
     "height": 432
    },
    "collapsed": true,
    "id": "7XeTNyZnGJ7M",
    "outputId": "7871f136-8e64-4363-e535-c92a030d53a8"
   },
   "outputs": [],
   "source": [
    "# 연체일자_B0M -> 연체 없음 0, 연체 있음 1 값으로 대체\n",
    "train['is_overdue_B0M'] = train['연체일자_B0M'].notnull().astype(int)\n",
    "print(train['is_overdue_B0M'].value_counts())\n",
    "\n",
    "# 기존 컬럼 필터링된 데이터 + 연체일자 파생 변수\n",
    "x_train = train[financial_common + ['is_overdue_B0M']].copy()\n",
    "\n",
    "print(x_train.shape)\n",
    "x_train.head()"
   ]
  },
  {
   "cell_type": "code",
   "execution_count": null,
   "metadata": {
    "colab": {
     "base_uri": "https://localhost:8080/",
     "height": 178
    },
    "id": "HLMoJOMbGRT7",
    "outputId": "974c3bb0-fc15-436e-b85c-4ee0c9edebb9"
   },
   "outputs": [],
   "source": [
    "# object 확인\n",
    "x_train.dtypes.value_counts()"
   ]
  },
  {
   "cell_type": "code",
   "execution_count": null,
   "metadata": {
    "colab": {
     "base_uri": "https://localhost:8080/"
    },
    "id": "yf0gYN9FGTHa",
    "outputId": "d8f2ab5b-5958-4e32-d6e2-bb47f6327048"
   },
   "outputs": [],
   "source": [
    "from sklearn.preprocessing import LabelEncoder\n",
    "\n",
    "# 1. object 타입 컬럼 추출\n",
    "object_cols = x_train.select_dtypes(include='object').columns\n",
    "print(f\"인코딩 대상 컬럼: {list(object_cols)}\")\n",
    "\n",
    "# 2. 각 컬럼별 LabelEncoder 적용\n",
    "le = LabelEncoder()\n",
    "for col in object_cols:\n",
    "    x_train[col] = le.fit_transform(x_train[col].astype(str))  # NaN 방지 위해 문자열로 처리\n",
    "\n",
    "print(x_train[object_cols].head())\n",
    "\n",
    "y_train = train['Segment']\n",
    "print(y_train.value_counts())\n"
   ]
  },
  {
   "cell_type": "markdown",
   "metadata": {
    "id": "soHn78ixGW19"
   },
   "source": [
    "train set 훈련/검증 분리"
   ]
  },
  {
   "cell_type": "code",
   "execution_count": null,
   "metadata": {
    "colab": {
     "base_uri": "https://localhost:8080/"
    },
    "id": "Dg91RzTPGWSy",
    "outputId": "0c041278-df0e-40b7-9267-98e0ed2503bc"
   },
   "outputs": [],
   "source": [
    "from sklearn.model_selection import train_test_split\n",
    "from sklearn.ensemble import RandomForestClassifier\n",
    "from sklearn.metrics import classification_report, confusion_matrix\n",
    "\n",
    "# 1. 타깃 이진화: E → 1, 나머지(A~D) → 0\n",
    "y_binary = (y_train == 'E').astype(int)\n",
    "\n",
    "# 2. 학습/검증 세트 분리 (전체의 20%를 검증용)\n",
    "X_tr, X_val, y_tr, y_val = train_test_split(\n",
    "    x_train, y_binary,\n",
    "    test_size=0.2,\n",
    "    stratify=y_binary,\n",
    "    random_state=42\n",
    ")\n",
    "\n",
    "# 3. 모델 정의 및 학습 (클래스 불균형 보정)\n",
    "clf = RandomForestClassifier(\n",
    "    class_weight='balanced',\n",
    "    random_state=42,\n",
    "    n_jobs=-1\n",
    ")\n",
    "clf.fit(X_tr, y_tr)\n",
    "\n",
    "# 4. 예측\n",
    "y_pred = clf.predict(X_val)\n",
    "\n",
    "# 5. 성능 평가\n",
    "print(\" [Classification Report]\")\n",
    "print(classification_report(y_val, y_pred, target_names=['Non-E', 'E']))\n",
    "\n",
    "print(\"\\n [Confusion Matrix]\")\n",
    "print(confusion_matrix(y_val, y_pred))\n"
   ]
  },
  {
   "cell_type": "markdown",
   "metadata": {
    "id": "YjLbdNFeGaqE"
   },
   "source": [
    "2단계 멀티클래스 분류 모델 학습 (A/B/C/D)\n",
    "여기서 a,b예측 실패 + c,d 불균형으로 d가 많아 편향됨"
   ]
  },
  {
   "cell_type": "code",
   "execution_count": null,
   "metadata": {
    "colab": {
     "base_uri": "https://localhost:8080/"
    },
    "id": "G_N2-RhjGvm6",
    "outputId": "764d3796-3058-4b54-a12c-8b5f2c46fd5c"
   },
   "outputs": [],
   "source": [
    "# 1단계 분류용 E 여부 레이블 생성\n",
    "y_binary = (y_train == 'E').astype(int)\n",
    "\n",
    "# ⛳ E가 아닌 데이터만 추출 (1단계 모델에서 Non-E에 해당)\n",
    "non_e_mask = y_train != 'E'\n",
    "x_train_non_e = x_train[non_e_mask]        # 설명변수\n",
    "y_train_non_e = y_train[non_e_mask]        # 원래 다중 클래스 레이블 (A, B, C, D 중 하나)\n",
    "\n",
    "# 이후 2단계 분류 수행\n",
    "from sklearn.model_selection import train_test_split\n",
    "from sklearn.ensemble import RandomForestClassifier\n",
    "from sklearn.metrics import classification_report, confusion_matrix\n",
    "\n",
    "# 학습/검증 분리\n",
    "X2_tr, X2_val, y2_tr, y2_val = train_test_split(\n",
    "    x_train_non_e, y_train_non_e,\n",
    "    test_size=0.2,\n",
    "    stratify=y_train_non_e,\n",
    "    random_state=42\n",
    ")\n",
    "\n",
    "# 모델 학습\n",
    "clf_multi = RandomForestClassifier(\n",
    "    class_weight='balanced',\n",
    "    random_state=42,\n",
    "    n_jobs=-1\n",
    ")\n",
    "clf_multi.fit(X2_tr, y2_tr)\n",
    "\n",
    "# 평가\n",
    "y2_pred = clf_multi.predict(X2_val)\n",
    "\n",
    "print(\"[2단계 Classification Report]\")\n",
    "print(classification_report(y2_val, y2_pred))\n",
    "print(\"[2단계 Confusion Matrix]\")\n",
    "print(confusion_matrix(y2_val, y2_pred))"
   ]
  },
  {
   "cell_type": "markdown",
   "metadata": {
    "id": "o-g5xTfCHGTa"
   },
   "source": [
    "a/b 를 ab로 병합\n",
    "\n",
    "학습/검증 세트 분리 (d,c,ab)\n",
    "모델 학습 및 평가 (randomforest)"
   ]
  },
  {
   "cell_type": "code",
   "execution_count": null,
   "metadata": {
    "colab": {
     "base_uri": "https://localhost:8080/"
    },
    "id": "SIR4r-lLHHom",
    "outputId": "61f56abd-9a41-40a2-aae6-01de24afa9b1"
   },
   "outputs": [],
   "source": [
    "# A/B를 'AB'로 병합\n",
    "y_train_non_e_3class = y_train_non_e.replace({'A': 'AB', 'B': 'AB'})\n",
    "print(y_train_non_e_3class.value_counts())\n",
    "\n",
    "from sklearn.model_selection import train_test_split\n",
    "from sklearn.ensemble import RandomForestClassifier\n",
    "from sklearn.metrics import classification_report, confusion_matrix\n",
    "\n",
    "# 분리\n",
    "X3_tr, X3_val, y3_tr, y3_val = train_test_split(\n",
    "    x_train_non_e, y_train_non_e_3class,\n",
    "    test_size=0.2,\n",
    "    stratify=y_train_non_e_3class,\n",
    "    random_state=42\n",
    ")\n",
    "\n",
    "# 모델 정의\n",
    "clf_3class = RandomForestClassifier(\n",
    "    class_weight='balanced',\n",
    "    random_state=42,\n",
    "    n_jobs=-1\n",
    ")\n",
    "\n",
    "# 학습\n",
    "clf_3class.fit(X3_tr, y3_tr)\n",
    "\n",
    "# 예측\n",
    "y3_pred = clf_3class.predict(X3_val)\n",
    "\n",
    "# 평가\n",
    "print(\"[3분류 Classification Report]\")\n",
    "print(classification_report(y3_val, y3_pred))\n",
    "\n",
    "print(\"\\n[3분류 Confusion Matrix]\")\n",
    "print(confusion_matrix(y3_val, y3_pred))\n",
    "\n"
   ]
  },
  {
   "cell_type": "markdown",
   "metadata": {
    "id": "N7Ufa4UMHa47"
   },
   "source": [
    "LightGBM으로 모델교체"
   ]
  },
  {
   "cell_type": "code",
   "execution_count": null,
   "metadata": {
    "colab": {
     "base_uri": "https://localhost:8080/"
    },
    "collapsed": true,
    "id": "lmGpNcZHHbx9",
    "outputId": "d84f4531-08f8-4a8b-c885-a15d22cd90ca"
   },
   "outputs": [],
   "source": [
    "from lightgbm import LGBMClassifier\n",
    "from sklearn.model_selection import train_test_split\n",
    "from sklearn.metrics import classification_report, confusion_matrix\n",
    "\n",
    "# 1. 데이터: 기존 Non-E 대상 + AB 병합 완료된 타깃\n",
    "# x_train_non_e, y_train_non_e_3class\n",
    "\n",
    "# 2. 학습/검증 분리\n",
    "X3_tr, X3_val, y3_tr, y3_val = train_test_split(\n",
    "    x_train_non_e, y_train_non_e_3class,\n",
    "    test_size=0.2,\n",
    "    stratify=y_train_non_e_3class,\n",
    "    random_state=42\n",
    ")\n",
    "\n",
    "# 3. 모델 정의\n",
    "lgbm = LGBMClassifier(\n",
    "    class_weight='balanced',   # 클래스 불균형 대응\n",
    "    n_estimators=200,\n",
    "    max_depth=7,\n",
    "    random_state=42,\n",
    "    n_jobs=-1\n",
    ")\n",
    "\n",
    "# 4. 학습\n",
    "lgbm.fit(X3_tr, y3_tr)\n",
    "\n",
    "# 5. 예측\n",
    "y3_pred_lgbm = lgbm.predict(X3_val)\n",
    "\n",
    "# 6. 평가\n",
    "print(\"[3-Class Classification Report - LightGBM]\")\n",
    "print(classification_report(y3_val, y3_pred_lgbm))\n",
    "\n",
    "print(\"\\n[Confusion Matrix - LightGBM]\")\n",
    "print(confusion_matrix(y3_val, y3_pred_lgbm))"
   ]
  },
  {
   "cell_type": "markdown",
   "metadata": {
    "id": "qjWNorUEHfO3"
   },
   "source": [
    "XGBoost로 모델교체"
   ]
  },
  {
   "cell_type": "code",
   "execution_count": null,
   "metadata": {
    "colab": {
     "base_uri": "https://localhost:8080/"
    },
    "id": "3_Ly_FdyHj6y",
    "outputId": "499d1ca2-b816-45e7-ae07-4b27b8f1854c"
   },
   "outputs": [],
   "source": [
    "from sklearn.preprocessing import LabelEncoder\n",
    "\n",
    "# 1. 타깃값 레이블 인코딩 (AB/C/D → 0/1/2)\n",
    "le_y3 = LabelEncoder()\n",
    "y3_tr_encoded = le_y3.fit_transform(y3_tr)\n",
    "y3_val_encoded = le_y3.transform(y3_val)\n",
    "\n",
    "# 2. XGBoost 모델 학습\n",
    "from xgboost import XGBClassifier\n",
    "\n",
    "xgb_clf = XGBClassifier(\n",
    "    objective='multi:softmax',\n",
    "    num_class=3,\n",
    "    eval_metric='mlogloss',\n",
    "    use_label_encoder=False,\n",
    "    random_state=42,\n",
    "    n_jobs=-1\n",
    ")\n",
    "\n",
    "xgb_clf.fit(X3_tr, y3_tr_encoded)\n",
    "\n",
    "# 3. 예측\n",
    "y3_pred_xgb = xgb_clf.predict(X3_val)\n",
    "\n",
    "# 4. 디코딩 (숫자 → AB/C/D)\n",
    "y3_pred_decoded = le_y3.inverse_transform(y3_pred_xgb)\n",
    "\n",
    "# 5. 평가\n",
    "from sklearn.metrics import classification_report, confusion_matrix\n",
    "\n",
    "print(\"[3-Class Classification Report - XGBoost]\")\n",
    "print(classification_report(y3_val, y3_pred_decoded))\n",
    "\n",
    "print(\"\\n[Confusion Matrix - XGBoost]\")\n",
    "print(confusion_matrix(y3_val, y3_pred_decoded))"
   ]
  },
  {
   "cell_type": "code",
   "execution_count": null,
   "metadata": {
    "id": "LzaKXkakHoRF"
   },
   "outputs": [],
   "source": [
    "!apt-get -qq install -y fonts-nanum"
   ]
  },
  {
   "cell_type": "code",
   "execution_count": null,
   "metadata": {
    "colab": {
     "base_uri": "https://localhost:8080/",
     "height": 407
    },
    "collapsed": true,
    "id": "JdTYcuMvHtcn",
    "outputId": "00302145-331d-423b-a7be-cd0a66349774"
   },
   "outputs": [],
   "source": [
    "import matplotlib.pyplot as plt\n",
    "import matplotlib.font_manager as fm\n",
    "import matplotlib as mpl\n",
    "\n",
    "# ✅ 설치된 경로 직접 지정\n",
    "font_path = '/usr/share/fonts/truetype/nanum/NanumGothic.ttf'\n",
    "font_name = fm.FontProperties(fname=font_path).get_name()\n",
    "\n",
    "# ✅ 전역 설정\n",
    "plt.rcParams['font.family'] = font_name\n",
    "plt.rcParams['axes.unicode_minus'] = False\n",
    "\n",
    "# ✅ 테스트\n",
    "plt.figure(figsize=(6, 4))\n",
    "plt.title('한글 폰트 테스트')\n",
    "plt.plot([1, 2, 3], [1, 4, 9])\n",
    "plt.xlabel('X축')\n",
    "plt.ylabel('Y축')\n",
    "plt.grid(True)\n",
    "plt.show()"
   ]
  },
  {
   "cell_type": "markdown",
   "metadata": {
    "id": "aM6B8YS-Hv4M"
   },
   "source": [
    "RF모델의 FI분석"
   ]
  },
  {
   "cell_type": "code",
   "execution_count": null,
   "metadata": {
    "colab": {
     "base_uri": "https://localhost:8080/",
     "height": 966
    },
    "collapsed": true,
    "id": "4X6-NzWKHxyf",
    "outputId": "dbe6eb0b-dcf1-4b1b-e52a-c72e392d2f80"
   },
   "outputs": [],
   "source": [
    "!apt-get -qq install -y fonts-nanum\n",
    "import matplotlib.pyplot as plt\n",
    "import matplotlib.font_manager as fm\n",
    "import seaborn as sns\n",
    "\n",
    "plt.rcParams['font.family'] = 'NanumGothic'\n",
    "plt.rcParams['axes.unicode_minus'] = False\n",
    "\n",
    "# ✅ Feature importance 추출\n",
    "importances = clf_3class.feature_importances_\n",
    "feature_names = X3_tr.columns\n",
    "fi_df = pd.DataFrame({'Feature': feature_names, 'Importance': importances})\n",
    "\n",
    "# ✅ 중요도 순 정렬\n",
    "fi_df = fi_df.sort_values(by='Importance', ascending=False).head(30)\n",
    "\n",
    "# ✅ 시각화\n",
    "plt.figure(figsize=(10, 6))\n",
    "sns.barplot(x='Importance', y='Feature', data=fi_df)\n",
    "plt.title('Top 30 Feature Importances (RandomForest)')\n",
    "plt.tight_layout()\n",
    "plt.show()\n",
    "\n",
    "# ✅ 주요 변수 리스트 출력\n",
    "print(\"주요 변수 상위 30개:\")\n",
    "for i, feature in enumerate(fi_df['Feature'].values, start=1):\n",
    "    print(f\"{i}. {feature}\")"
   ]
  },
  {
   "cell_type": "markdown",
   "metadata": {
    "id": "mmZhAQtxHzOR"
   },
   "source": [
    "lightGBM의 FI분석"
   ]
  },
  {
   "cell_type": "code",
   "execution_count": null,
   "metadata": {
    "colab": {
     "base_uri": "https://localhost:8080/",
     "height": 966
    },
    "collapsed": true,
    "id": "rlj8ohMxH0Sv",
    "outputId": "f52125c6-bb43-4876-d8df-f1820986f8a0"
   },
   "outputs": [],
   "source": [
    "# ✅ 1. Feature Importance 추출\n",
    "lgb_importances = lgbm.feature_importances_\n",
    "lgb_feature_names = X3_tr.columns\n",
    "\n",
    "lgb_fi_df = pd.DataFrame({\n",
    "    'Feature': lgb_feature_names,\n",
    "    'Importance': lgb_importances\n",
    "})\n",
    "\n",
    "# ✅ 2. 중요도 순 정렬\n",
    "lgb_fi_df = lgb_fi_df.sort_values(by='Importance', ascending=False).head(30)\n",
    "\n",
    "# ✅ 3. 주요 변수 리스트 출력 (번호 포함)\n",
    "print(\"LightGBM 중요 변수 Top 30 리스트:\")\n",
    "for i, feature in enumerate(lgb_fi_df['Feature'].values, start=1):\n",
    "    print(f\"{i}. {feature}\")\n",
    "\n",
    "# ✅ 4. 시각화\n",
    "plt.figure(figsize=(10, 6))\n",
    "sns.barplot(x='Importance', y='Feature', data=lgb_fi_df)\n",
    "plt.title('Top 30 Feature Importances (LightGBM)')\n",
    "plt.tight_layout()\n",
    "plt.show()"
   ]
  },
  {
   "cell_type": "markdown",
   "metadata": {
    "id": "uieptN6EH3uK"
   },
   "source": [
    "XGBoost의 FI분석"
   ]
  },
  {
   "cell_type": "code",
   "execution_count": null,
   "metadata": {
    "colab": {
     "base_uri": "https://localhost:8080/",
     "height": 966
    },
    "collapsed": true,
    "id": "RXJleBGMH4nw",
    "outputId": "009a53e0-5111-4bd8-c80f-f7fe9292b088"
   },
   "outputs": [],
   "source": [
    "import matplotlib.pyplot as plt\n",
    "import seaborn as sns\n",
    "import pandas as pd\n",
    "\n",
    "# ✅ 1. Feature Importance 추출\n",
    "xgb_importances = xgb_clf.feature_importances_\n",
    "xgb_feature_names = X3_tr.columns\n",
    "\n",
    "xgb_fi_df = pd.DataFrame({\n",
    "    'Feature': xgb_feature_names,\n",
    "    'Importance': xgb_importances\n",
    "})\n",
    "\n",
    "# ✅ 2. 중요도 순 정렬\n",
    "xgb_fi_df = xgb_fi_df.sort_values(by='Importance', ascending=False).head(30)\n",
    "\n",
    "# ✅ 3. 주요 변수 리스트 출력 (번호 포함)\n",
    "print(\"XGBoost 중요 변수 Top 30 리스트:\")\n",
    "for i, feature in enumerate(xgb_fi_df['Feature'].values, start=1):\n",
    "    print(f\"{i}. {feature}\")\n",
    "\n",
    "# ✅ 4. 시각화\n",
    "plt.figure(figsize=(10, 6))\n",
    "sns.barplot(x='Importance', y='Feature', data=xgb_fi_df)\n",
    "plt.title('Top 30 Feature Importances (XGBoost)')\n",
    "plt.tight_layout()\n",
    "plt.show()"
   ]
  },
  {
   "cell_type": "markdown",
   "metadata": {
    "id": "61vW_F07H7Cl"
   },
   "source": [
    "3가지 모델의 FI 분석"
   ]
  },
  {
   "cell_type": "code",
   "execution_count": null,
   "metadata": {
    "colab": {
     "base_uri": "https://localhost:8080/"
    },
    "collapsed": true,
    "id": "yBjlUMGEH8kI",
    "outputId": "7c69f92e-e255-402b-f4e6-58fdfa7f5fe2"
   },
   "outputs": [],
   "source": [
    "# 📌 1. 세 모델의 Top 30 중요 변수 리스트\n",
    "rf_top_features = fi_df['Feature'].head(30).tolist()\n",
    "xgb_top_features = xgb_fi_df['Feature'].head(30).tolist()\n",
    "lgb_top_features = lgb_fi_df['Feature'].head(30).tolist()\n",
    "\n",
    "# 📌 2. 공통 변수\n",
    "common_all = list(set(rf_top_features) & set(xgb_top_features) & set(lgb_top_features))\n",
    "common_rf_xgb = list(set(rf_top_features) & set(xgb_top_features) - set(lgb_top_features))\n",
    "common_rf_lgb = list(set(rf_top_features) & set(lgb_top_features) - set(xgb_top_features))\n",
    "common_xgb_lgb = list(set(xgb_top_features) & set(lgb_top_features) - set(rf_top_features))\n",
    "\n",
    "# 📌 3. 고유 변수\n",
    "rf_only = list(set(rf_top_features) - set(xgb_top_features) - set(lgb_top_features))\n",
    "xgb_only = list(set(xgb_top_features) - set(rf_top_features) - set(lgb_top_features))\n",
    "lgb_only = list(set(lgb_top_features) - set(rf_top_features) - set(xgb_top_features))\n",
    "\n",
    "# 📌 4. 결과 출력\n",
    "print(\"🔗 [공통 중요 변수 - RF, XGB, LGB]\")\n",
    "for i, feat in enumerate(common_all, 1):\n",
    "    print(f\"{i}. {feat}\")\n",
    "\n",
    "print(\"\\n🔗 [공통 중요 변수 - RF & XGB]\")\n",
    "for i, feat in enumerate(common_rf_xgb, 1):\n",
    "    print(f\"{i}. {feat}\")\n",
    "\n",
    "print(\"\\n🔗 [공통 중요 변수 - RF & LGB]\")\n",
    "for i, feat in enumerate(common_rf_lgb, 1):\n",
    "    print(f\"{i}. {feat}\")\n",
    "\n",
    "print(\"\\n🔗 [공통 중요 변수 - XGB & LGB]\")\n",
    "for i, feat in enumerate(common_xgb_lgb, 1):\n",
    "    print(f\"{i}. {feat}\")\n",
    "\n",
    "print(\"\\n❗ [RF 단독 중요 변수]\")\n",
    "for i, feat in enumerate(rf_only, 1):\n",
    "    print(f\"{i}. {feat}\")\n",
    "\n",
    "print(\"\\n❗ [XGB 단독 중요 변수]\")\n",
    "for i, feat in enumerate(xgb_only, 1):\n",
    "    print(f\"{i}. {feat}\")\n",
    "\n",
    "print(\"\\n❗ [LGB 단독 중요 변수]\")\n",
    "for i, feat in enumerate(lgb_only, 1):\n",
    "    print(f\"{i}. {feat}\")"
   ]
  },
  {
   "cell_type": "markdown",
   "metadata": {
    "id": "TZQae62NH9s3"
   },
   "source": [
    "top30 변수 리스트\n"
   ]
  },
  {
   "cell_type": "code",
   "execution_count": null,
   "metadata": {
    "id": "LYbzHot5H_lD"
   },
   "outputs": [],
   "source": [
    "# 각 모델의 FI 상위 30개 변수 리스트\n",
    "rf_top30 = fi_df['Feature'].head(30).tolist()\n",
    "xgb_top30 = xgb_fi_df['Feature'].head(30).tolist()\n",
    "lgb_top30 = lgb_fi_df['Feature'].head(30).tolist()\n",
    "\n",
    "# 전체에서 빈도 기반으로 가장 많이 등장한 Top 30 변수 선정\n",
    "from collections import Counter\n",
    "\n",
    "# 변수들 모아서 빈도 계산\n",
    "all_top_features = rf_top30 + xgb_top30 + lgb_top30\n",
    "top_30_features = [item[0] for item in Counter(all_top_features).most_common(30)]"
   ]
  },
  {
   "cell_type": "markdown",
   "metadata": {
    "id": "Riwsk8uSITt4"
   },
   "source": [
    "3가지 모델 FI분석 - RF"
   ]
  },
  {
   "cell_type": "code",
   "execution_count": null,
   "metadata": {
    "colab": {
     "base_uri": "https://localhost:8080/",
     "height": 862
    },
    "collapsed": true,
    "id": "G-ijRZkXIU4n",
    "outputId": "dc4c2c1e-7f1b-4e19-a62f-af2fa76c5e7a"
   },
   "outputs": [],
   "source": [
    "import matplotlib.pyplot as plt\n",
    "import seaborn as sns\n",
    "from sklearn.ensemble import RandomForestClassifier\n",
    "from sklearn.metrics import classification_report\n",
    "import pandas as pd\n",
    "\n",
    "# ✅ 실제 존재하는 컬럼으로 필터링\n",
    "top_30_features_valid = [col for col in top_30_features if col in X3_tr.columns]\n",
    "\n",
    "# ✅ 데이터 추출\n",
    "X3_tr_top30 = X3_tr[top_30_features_valid]\n",
    "X3_val_top30 = X3_val[top_30_features_valid]\n",
    "\n",
    "# ✅ 모델 정의 및 학습\n",
    "rf_top30 = RandomForestClassifier(class_weight='balanced', random_state=42, n_jobs=-1)\n",
    "rf_top30.fit(X3_tr_top30, y3_tr)\n",
    "\n",
    "# ✅ 예측\n",
    "y_pred_top30 = rf_top30.predict(X3_val_top30)\n",
    "\n",
    "# ✅ 성능 평가\n",
    "report_top30 = classification_report(y3_val, y_pred_top30, output_dict=True)\n",
    "report_df = pd.DataFrame(report_top30).transpose()\n",
    "\n",
    "# ✅ 전체 지표 출력\n",
    "print(\"[Top 30 Feature 기반 RandomForest 성능 평가]\")\n",
    "display(report_df.round(3))  # 소수점 3자리로 보기 좋게 출력\n",
    "\n",
    "# ✅ 정확도 및 f1-score 시각화용 데이터 구성\n",
    "scores = {\n",
    "    'accuracy': report_df.loc['accuracy']['precision'],\n",
    "    'f1-score': report_df.loc['weighted avg']['f1-score']\n",
    "}\n",
    "score_df = pd.DataFrame(list(scores.items()), columns=['Metric', 'Score'])\n",
    "\n",
    "# ✅ 시각화\n",
    "plt.figure(figsize=(6, 4))\n",
    "sns.barplot(data=score_df, x='Metric', y='Score', palette='Blues_d')\n",
    "plt.ylim(0, 1)\n",
    "plt.title('Top 30 Feature 기반 RandomForest 성능')\n",
    "plt.tight_layout()\n",
    "plt.show()"
   ]
  },
  {
   "cell_type": "markdown",
   "metadata": {
    "id": "VVJCSHSfIW67"
   },
   "source": [
    "3가지 모델 FI분석 - XGBoost"
   ]
  },
  {
   "cell_type": "code",
   "execution_count": null,
   "metadata": {
    "colab": {
     "base_uri": "https://localhost:8080/",
     "height": 748
    },
    "collapsed": true,
    "id": "bF9iQtTBIYFR",
    "outputId": "a25de0b5-c76d-4672-fc19-99db08f53ba9"
   },
   "outputs": [],
   "source": [
    "from sklearn.preprocessing import LabelEncoder\n",
    "from xgboost import XGBClassifier\n",
    "from sklearn.metrics import classification_report\n",
    "import matplotlib.pyplot as plt\n",
    "import seaborn as sns\n",
    "import pandas as pd\n",
    "\n",
    "# ✅ 레이블 인코딩\n",
    "le = LabelEncoder()\n",
    "y3_tr_enc = le.fit_transform(y3_tr)\n",
    "y3_val_enc = le.transform(y3_val)\n",
    "\n",
    "# ✅ 유효한 feature 필터링\n",
    "top_30_features_valid = [col for col in top_30_features if col in X3_tr.columns]\n",
    "X3_tr_top30 = X3_tr[top_30_features_valid]\n",
    "X3_val_top30 = X3_val[top_30_features_valid]\n",
    "\n",
    "# ✅ 모델 정의 및 학습\n",
    "xgb_top30 = XGBClassifier(\n",
    "    objective='multi:softmax',\n",
    "    num_class=3,\n",
    "    use_label_encoder=False,\n",
    "    eval_metric='mlogloss',\n",
    "    random_state=42,\n",
    "    n_jobs=-1\n",
    ")\n",
    "xgb_top30.fit(X3_tr_top30, y3_tr_enc)\n",
    "\n",
    "# ✅ 예측\n",
    "y_pred_top30_enc = xgb_top30.predict(X3_val_top30)\n",
    "y_pred_top30 = le.inverse_transform(y_pred_top30_enc)\n",
    "\n",
    "# ✅ 평가\n",
    "report_top30 = classification_report(y3_val, y_pred_top30, output_dict=True)\n",
    "report_df = pd.DataFrame(report_top30).transpose()\n",
    "\n",
    "# ✅ 정확도 및 f1-score 시각화용 데이터 구성\n",
    "scores = {\n",
    "    'accuracy': report_df.loc['accuracy']['precision'],\n",
    "    'f1-score': report_df.loc['weighted avg']['f1-score']\n",
    "}\n",
    "score_df = pd.DataFrame(list(scores.items()), columns=['Metric', 'Score'])\n",
    "\n",
    "# ✅ 시각화\n",
    "plt.figure(figsize=(6, 4))\n",
    "sns.barplot(data=score_df, x='Metric', y='Score')\n",
    "plt.ylim(0, 1)\n",
    "plt.title('Top 30 Feature 기반 XGBoost 성능')\n",
    "plt.tight_layout()\n",
    "plt.show()\n",
    "\n",
    "# ✅ 상세 보고서 출력\n",
    "print(\"XGBoost 평가 상세 결과 (Top 30 Feature)\")\n",
    "print(report_df[['precision', 'recall', 'f1-score']].round(3))"
   ]
  },
  {
   "cell_type": "markdown",
   "metadata": {
    "id": "ReJHkMgJIa5P"
   },
   "source": [
    "SMOTE -> AB 데이터 증강"
   ]
  },
  {
   "cell_type": "code",
   "execution_count": null,
   "metadata": {
    "colab": {
     "base_uri": "https://localhost:8080/"
    },
    "id": "XzSmnrTgIb6f",
    "outputId": "706c75ab-359f-4c5d-cb9d-f271efbe6ba4"
   },
   "outputs": [],
   "source": [
    "from imblearn.over_sampling import SMOTE\n",
    "from collections import Counter\n",
    "\n",
    "# 결측치가 있는 경우 0으로 대체 (예: 연체 관련 파생 변수)\n",
    "X3_tr = X3_tr.fillna(0)\n",
    "\n",
    "# SMOTE 적용 전 클래스 분포 확인\n",
    "print(\"Before SMOTE:\", Counter(y3_tr))\n",
    "\n",
    "# SMOTE 객체 생성 및 적용\n",
    "smote = SMOTE(random_state=42)\n",
    "X3_tr_smote, y3_tr_smote = smote.fit_resample(X3_tr, y3_tr)\n",
    "\n",
    "# SMOTE 적용 후 클래스 분포 확인\n",
    "print(\"After SMOTE:\", Counter(y3_tr_smote))"
   ]
  },
  {
   "cell_type": "markdown",
   "metadata": {
    "id": "8R0sgYHQIfIh"
   },
   "source": [
    "SMOTE 후 RF"
   ]
  },
  {
   "cell_type": "code",
   "execution_count": null,
   "metadata": {
    "colab": {
     "base_uri": "https://localhost:8080/",
     "height": 907
    },
    "id": "hlL67s7CIgMh",
    "outputId": "d770562e-bb11-47ec-d50e-7b2d0e3b8b41"
   },
   "outputs": [],
   "source": [
    "from imblearn.over_sampling import SMOTE\n",
    "from sklearn.ensemble import RandomForestClassifier\n",
    "from sklearn.metrics import classification_report\n",
    "import pandas as pd\n",
    "import seaborn as sns\n",
    "import matplotlib.pyplot as plt\n",
    "from collections import Counter\n",
    "\n",
    "# 1. 결측치 처리\n",
    "X3_tr_clean = X3_tr.fillna(0)\n",
    "X3_val_clean = X3_val.fillna(0)\n",
    "\n",
    "# 2. SMOTE 적용 전 클래스 분포 확인\n",
    "print(\"Before SMOTE:\", Counter(y3_tr))\n",
    "\n",
    "# 3. SMOTE 적용\n",
    "smote = SMOTE(random_state=42)\n",
    "X3_tr_smote, y3_tr_smote = smote.fit_resample(X3_tr_clean, y3_tr)\n",
    "\n",
    "print(\"After SMOTE:\", Counter(y3_tr_smote))\n",
    "\n",
    "# 4. 모델 학습\n",
    "rf_smote = RandomForestClassifier(class_weight='balanced', random_state=42, n_jobs=-1)\n",
    "rf_smote.fit(X3_tr_smote, y3_tr_smote)\n",
    "\n",
    "# 5. 검증 세트 컬럼 맞춤\n",
    "X3_val_aligned = X3_val_clean[X3_tr_smote.columns]\n",
    "\n",
    "from sklearn.metrics import classification_report, confusion_matrix\n",
    "\n",
    "# 6. 예측 및 평가\n",
    "y3_pred_smote = rf_smote.predict(X3_val_aligned)\n",
    "\n",
    "# Classification Report 출력\n",
    "print(\"\\n[3-Class Classification Report - RandomForest]\")\n",
    "print(classification_report(y3_val, y3_pred_smote, digits=2))\n",
    "\n",
    "# Confusion Matrix 출력\n",
    "cm = confusion_matrix(y3_val, y3_pred_smote, labels=rf_smote.classes_)\n",
    "print(\"\\n[Confusion Matrix - RandomForest]\")\n",
    "print(\"Labels:\", rf_smote.classes_.tolist())\n",
    "print(cm)\n",
    "\n",
    "# 7. 정확도 및 f1-score 시각화\n",
    "score_dict = {\n",
    "    'accuracy': report_df.loc['accuracy']['precision'],\n",
    "    'f1-score': report_df.loc['weighted avg']['f1-score']\n",
    "}\n",
    "score_df = pd.DataFrame(score_dict.items(), columns=['Metric', 'Score'])\n",
    "\n",
    "plt.figure(figsize=(6, 4))\n",
    "sns.barplot(data=score_df, x='Metric', y='Score')\n",
    "plt.ylim(0, 1)\n",
    "plt.title('RandomForest 성능 (SMOTE 적용 후)')\n",
    "plt.tight_layout()\n",
    "plt.show()\n",
    "\n",
    "# 8. 상세 리포트 출력\n",
    "print(\"SMOTE 적용 후 RandomForest 상세 성능:\")\n",
    "print(report_df.round(3))"
   ]
  },
  {
   "cell_type": "markdown",
   "metadata": {
    "id": "LKeO2oGzIih-"
   },
   "source": [
    "SMOTE 후 Xgboost"
   ]
  },
  {
   "cell_type": "code",
   "execution_count": null,
   "metadata": {
    "colab": {
     "base_uri": "https://localhost:8080/",
     "height": 764
    },
    "id": "kc6-78uEIjkg",
    "outputId": "0261002e-dbe6-4d30-ba07-55435b25c93c"
   },
   "outputs": [],
   "source": [
    "from imblearn.over_sampling import SMOTE\n",
    "from sklearn.preprocessing import LabelEncoder\n",
    "from xgboost import XGBClassifier\n",
    "from sklearn.metrics import classification_report, confusion_matrix\n",
    "import pandas as pd\n",
    "import seaborn as sns\n",
    "import matplotlib.pyplot as plt\n",
    "from collections import Counter\n",
    "\n",
    "# 1. 결측치 처리\n",
    "X3_tr_clean = X3_tr.fillna(0)\n",
    "X3_val_clean = X3_val.fillna(0)\n",
    "\n",
    "# 2. SMOTE 적용 전 클래스 분포 확인\n",
    "print(\"Before SMOTE:\", Counter(y3_tr))\n",
    "\n",
    "# 3. SMOTE 적용\n",
    "smote = SMOTE(random_state=42)\n",
    "X3_tr_smote, y3_tr_smote = smote.fit_resample(X3_tr_clean, y3_tr)\n",
    "\n",
    "print(\"After SMOTE:\", Counter(y3_tr_smote))\n",
    "\n",
    "# 4. Label Encoding\n",
    "le = LabelEncoder()\n",
    "y3_tr_smote_encoded = le.fit_transform(y3_tr_smote)\n",
    "y3_val_encoded = le.transform(y3_val)\n",
    "\n",
    "# 5. XGBoost 모델 정의 및 학습\n",
    "xgb_smote = XGBClassifier(\n",
    "    objective='multi:softmax',\n",
    "    num_class=3,\n",
    "    eval_metric='mlogloss',\n",
    "    random_state=42,\n",
    "    n_jobs=-1\n",
    ")\n",
    "xgb_smote.fit(X3_tr_smote, y3_tr_smote_encoded)\n",
    "\n",
    "# 6. 검증 데이터 컬럼 정렬\n",
    "X3_val_fixed = X3_val_clean[X3_tr_smote.columns]\n",
    "\n",
    "# 7. 예측 및 역변환\n",
    "y3_pred_encoded = xgb_smote.predict(X3_val_fixed)\n",
    "y3_pred = le.inverse_transform(y3_pred_encoded)\n",
    "\n",
    "# 8. 성능 평가\n",
    "report_xgb = classification_report(y3_val, y3_pred, output_dict=True)\n",
    "report_df_xgb = pd.DataFrame(report_xgb).transpose()\n",
    "\n",
    "# 9. 성능 시각화\n",
    "score_df = pd.DataFrame({\n",
    "    'Metric': ['accuracy', 'f1-score'],\n",
    "    'Score': [report_df_xgb.loc['accuracy']['precision'], report_df_xgb.loc['weighted avg']['f1-score']]\n",
    "})\n",
    "\n",
    "plt.figure(figsize=(6, 4))\n",
    "sns.barplot(data=score_df, x='Metric', y='Score')\n",
    "plt.ylim(0, 1)\n",
    "plt.title('SMOTE 기반 XGBoost 성능')\n",
    "plt.tight_layout()\n",
    "plt.show()\n",
    "\n",
    "# 10. 상세 리포트 출력\n",
    "print(\"\\n[3-Class Classification Report - XGBoost]\")\n",
    "print(classification_report(y3_val, y3_pred, digits=2))\n",
    "\n",
    "# 11. Confusion Matrix 출력\n",
    "cm = confusion_matrix(y3_val, y3_pred, labels=le.classes_)\n",
    "print(\"\\n[Confusion Matrix - XGBoost]\")\n",
    "print(\"Labels:\", le.classes_.tolist())\n",
    "print(cm)"
   ]
  },
  {
   "cell_type": "code",
   "execution_count": null,
   "metadata": {
    "colab": {
     "base_uri": "https://localhost:8080/"
    },
    "collapsed": true,
    "id": "2A68E9WsInhm",
    "outputId": "141b43c8-3267-47fa-e21d-fed46ab623e7"
   },
   "outputs": [],
   "source": [
    "pip install catboost"
   ]
  },
  {
   "cell_type": "markdown",
   "metadata": {
    "id": "ESIrifJUIo1E"
   },
   "source": [
    "catboost로 진행"
   ]
  },
  {
   "cell_type": "code",
   "execution_count": null,
   "metadata": {
    "colab": {
     "base_uri": "https://localhost:8080/",
     "height": 764
    },
    "id": "N6gZgG3RItcL",
    "outputId": "a2bab57d-f608-4176-e5b6-d90c6de87cac"
   },
   "outputs": [],
   "source": [
    "from catboost import CatBoostClassifier\n",
    "from sklearn.preprocessing import LabelEncoder\n",
    "from sklearn.metrics import classification_report, confusion_matrix\n",
    "import pandas as pd\n",
    "import seaborn as sns\n",
    "import matplotlib.pyplot as plt\n",
    "from imblearn.over_sampling import SMOTE\n",
    "from collections import Counter\n",
    "\n",
    "# 1. 결측치 처리\n",
    "X3_tr_clean = X3_tr.fillna(0)\n",
    "X3_val_clean = X3_val.fillna(0)\n",
    "\n",
    "# 2. SMOTE 적용 전 클래스 분포 확인\n",
    "print(\"Before SMOTE:\", Counter(y3_tr))\n",
    "\n",
    "# 3. SMOTE 적용\n",
    "smote = SMOTE(random_state=42)\n",
    "X3_tr_smote, y3_tr_smote = smote.fit_resample(X3_tr_clean, y3_tr)\n",
    "\n",
    "print(\"After SMOTE:\", Counter(y3_tr_smote))\n",
    "\n",
    "# 4. 레이블 인코딩\n",
    "le = LabelEncoder()\n",
    "y3_tr_smote_encoded = le.fit_transform(y3_tr_smote)\n",
    "y3_val_encoded = le.transform(y3_val)\n",
    "\n",
    "# 5. CatBoost 모델 정의 및 학습\n",
    "cat_model = CatBoostClassifier(\n",
    "    iterations=500,\n",
    "    learning_rate=0.05,\n",
    "    depth=6,\n",
    "    loss_function='MultiClass',\n",
    "    verbose=0,\n",
    "    random_seed=42\n",
    ")\n",
    "cat_model.fit(X3_tr_smote, y3_tr_smote_encoded)\n",
    "\n",
    "# 6. 예측 및 역변환\n",
    "y3_pred_encoded = cat_model.predict(X3_val_clean)\n",
    "y3_pred = le.inverse_transform(y3_pred_encoded.flatten())\n",
    "\n",
    "# 7. 성능 평가\n",
    "report_cat = classification_report(y3_val, y3_pred, output_dict=True)\n",
    "report_df_cat = pd.DataFrame(report_cat).transpose()\n",
    "\n",
    "# 8. 성능 시각화\n",
    "score_df = pd.DataFrame({\n",
    "    'Metric': ['accuracy', 'f1-score'],\n",
    "    'Score': [report_df_cat.loc['accuracy']['precision'], report_df_cat.loc['weighted avg']['f1-score']]\n",
    "})\n",
    "\n",
    "plt.figure(figsize=(6, 4))\n",
    "sns.barplot(data=score_df, x='Metric', y='Score')\n",
    "plt.ylim(0, 1)\n",
    "plt.title('SMOTE 기반 CatBoost 성능')\n",
    "plt.tight_layout()\n",
    "plt.show()\n",
    "\n",
    "# 9. 상세 결과 출력\n",
    "print(\"\\n[3-Class Classification Report - CatBoost]\")\n",
    "print(classification_report(y3_val, y3_pred, digits=2))\n",
    "\n",
    "# 10. Confusion Matrix 출력\n",
    "cm = confusion_matrix(y3_val, y3_pred, labels=le.classes_)\n",
    "print(\"\\n[Confusion Matrix - CatBoost]\")\n",
    "print(\"Labels:\", le.classes_.tolist())\n",
    "print(cm)"
   ]
  },
  {
   "cell_type": "markdown",
   "metadata": {
    "id": "Jv8uwfSqIu-O"
   },
   "source": [
    "CatBoost 클래스 가중치 (smote X)"
   ]
  },
  {
   "cell_type": "code",
   "execution_count": null,
   "metadata": {
    "colab": {
     "base_uri": "https://localhost:8080/"
    },
    "id": "OdJtnKsRIv5A",
    "outputId": "1813ad88-2364-4f98-be48-fbc9649b83d1"
   },
   "outputs": [],
   "source": [
    "from catboost import CatBoostClassifier\n",
    "from sklearn.preprocessing import LabelEncoder\n",
    "from sklearn.metrics import classification_report, confusion_matrix\n",
    "import pandas as pd\n",
    "from collections import Counter\n",
    "\n",
    "# 1. 결측치 처리\n",
    "X3_tr_clean = X3_tr.fillna(0)\n",
    "X3_val_clean = X3_val.fillna(0)\n",
    "\n",
    "# 2. 레이블 인코딩\n",
    "le = LabelEncoder()\n",
    "y3_tr_encoded = le.fit_transform(y3_tr)\n",
    "y3_val_encoded = le.transform(y3_val)\n",
    "\n",
    "# 3. CatBoost 모델 정의 (클래스 가중치 적용)\n",
    "cat_model = CatBoostClassifier(\n",
    "    iterations=500,\n",
    "    learning_rate=0.05,\n",
    "    depth=6,\n",
    "    loss_function='MultiClass',\n",
    "    auto_class_weights='Balanced',\n",
    "    random_seed=42,\n",
    "    verbose=0\n",
    ")\n",
    "\n",
    "# 4. 학습\n",
    "cat_model.fit(X3_tr_clean, y3_tr_encoded)\n",
    "\n",
    "# 5. 예측 및 역변환\n",
    "y3_pred_encoded = cat_model.predict(X3_val_clean)\n",
    "y3_pred = le.inverse_transform(y3_pred_encoded.flatten())\n",
    "\n",
    "# 6. 성능 평가\n",
    "report_cat = classification_report(y3_val, y3_pred, output_dict=True)\n",
    "report_df_cat = pd.DataFrame(report_cat).transpose()\n",
    "\n",
    "# 7. 출력\n",
    "print(\"\\n[3-Class Classification Report - CatBoost (Class Weight)]\")\n",
    "print(report_df_cat[['precision', 'recall', 'f1-score']].round(3))\n",
    "\n",
    "# 8. Confusion Matrix\n",
    "cm = confusion_matrix(y3_val, y3_pred, labels=le.classes_)\n",
    "print(\"\\n[Confusion Matrix - CatBoost (Class Weight)]\")\n",
    "print(f\"Labels: {list(le.classes_)}\")\n",
    "print(cm)"
   ]
  },
  {
   "cell_type": "markdown",
   "metadata": {
    "id": "JRuS9S5Jb_he"
   },
   "source": [
    "클래스 가중치 기반 XGBoost"
   ]
  },
  {
   "cell_type": "code",
   "execution_count": null,
   "metadata": {
    "colab": {
     "base_uri": "https://localhost:8080/"
    },
    "id": "mKpBmZ7sb-US",
    "outputId": "da6551e3-8bf2-4abf-defc-b342ff9a6906"
   },
   "outputs": [],
   "source": [
    "from xgboost import XGBClassifier\n",
    "from sklearn.utils.class_weight import compute_sample_weight\n",
    "from sklearn.preprocessing import LabelEncoder\n",
    "from sklearn.metrics import classification_report, confusion_matrix\n",
    "import pandas as pd\n",
    "from collections import Counter\n",
    "\n",
    "# 1. 레이블 인코딩\n",
    "le = LabelEncoder()\n",
    "y3_tr_encoded = le.fit_transform(y3_tr)\n",
    "y3_val_encoded = le.transform(y3_val)\n",
    "\n",
    "# 2. 클래스 가중치 → sample_weight 계산\n",
    "sample_weight = compute_sample_weight(class_weight='balanced', y=y3_tr_encoded)\n",
    "\n",
    "# 3. XGBoost 모델 정의\n",
    "xgb_weighted = XGBClassifier(\n",
    "    objective='multi:softmax',\n",
    "    num_class=3,\n",
    "    eval_metric='mlogloss',\n",
    "    use_label_encoder=False,\n",
    "    random_state=42,\n",
    "    n_jobs=-1\n",
    ")\n",
    "\n",
    "# 4. 학습\n",
    "xgb_weighted.fit(X3_tr, y3_tr_encoded, sample_weight=sample_weight)\n",
    "\n",
    "# 5. 예측 및 역변환\n",
    "y3_pred_encoded = xgb_weighted.predict(X3_val)\n",
    "y3_pred = le.inverse_transform(y3_pred_encoded)\n",
    "\n",
    "# 6. 성능 평가\n",
    "report = classification_report(y3_val, y3_pred, output_dict=True)\n",
    "report_df = pd.DataFrame(report).transpose()\n",
    "\n",
    "# 7. 출력\n",
    "print(\"\\n[3-Class Classification Report - XGBoost (Class Weight)]\")\n",
    "print(report_df[['precision', 'recall', 'f1-score']].round(3))\n",
    "\n",
    "# 8. Confusion Matrix\n",
    "cm = confusion_matrix(y3_val, y3_pred, labels=le.classes_)\n",
    "print(\"\\n[Confusion Matrix - XGBoost (Class Weight)]\")\n",
    "print(f\"Labels: {list(le.classes_)}\")\n",
    "print(cm)"
   ]
  },
  {
   "cell_type": "markdown",
   "metadata": {
    "id": "LG-6SpyaddL4"
   },
   "source": [
    "SMOTE : XGBoost + RandomizedSearchCV"
   ]
  },
  {
   "cell_type": "code",
   "execution_count": null,
   "metadata": {
    "colab": {
     "base_uri": "https://localhost:8080/",
     "height": 648,
     "referenced_widgets": [
      "4dbc44e74fc247f38058eeef75558c65",
      "036551ce0cad417a9ac5a131fd9823e9",
      "b20a2a3a33a948f590acd955b557e6e9",
      "40c4a15d362244fb9b1e651d3fec6ded",
      "1d85846c7f4a4445a6da68dda6562310",
      "740c36892d924d46b1d032b7b5ba771f",
      "2416f3ad2ac049318ebf450d16092060",
      "63038d3223d24b7f8e3c0c1191952ec6",
      "c5786d16573946d9a57c858a5f6c14a9",
      "a857fc705aa048fcad88f76ad26f3d77",
      "908fa80af4a548b990a740bf69dc9b29"
     ]
    },
    "id": "KnkZnyJhhKS-",
    "outputId": "d85f5176-cf2a-47fa-a65e-5e0eb23b8d76"
   },
   "outputs": [],
   "source": [
    "from xgboost import XGBClassifier\n",
    "from sklearn.model_selection import RandomizedSearchCV\n",
    "from sklearn.preprocessing import LabelEncoder\n",
    "from sklearn.metrics import classification_report\n",
    "from scipy.stats import randint, uniform\n",
    "from tqdm.auto import tqdm\n",
    "import pandas as pd\n",
    "import matplotlib.pyplot as plt\n",
    "import seaborn as sns\n",
    "\n",
    "# 1. 레이블 인코딩\n",
    "le = LabelEncoder()\n",
    "y3_tr_smote_enc = le.fit_transform(y3_tr_smote)\n",
    "y3_val_enc = le.transform(y3_val)\n",
    "\n",
    "# 2. 파라미터 탐색 공간 정의\n",
    "param_dist = {\n",
    "    'n_estimators': randint(100, 500),\n",
    "    'learning_rate': uniform(0.01, 0.2),\n",
    "    'max_depth': randint(3, 10),\n",
    "    'subsample': uniform(0.7, 0.3),\n",
    "    'colsample_bytree': uniform(0.7, 0.3),\n",
    "    'gamma': uniform(0, 5),\n",
    "    'reg_alpha': uniform(0, 5),\n",
    "    'reg_lambda': uniform(0, 5)\n",
    "}\n",
    "\n",
    "# 3. XGBoost 모델 정의\n",
    "xgb = XGBClassifier(\n",
    "    objective='multi:softmax',\n",
    "    num_class=3,\n",
    "    eval_metric='mlogloss',\n",
    "    random_state=42,\n",
    "    n_jobs=-1,\n",
    "    verbosity=0\n",
    ")\n",
    "\n",
    "# 4. RandomizedSearchCV 래핑 (진행률 표시 포함)\n",
    "class TqdmRandomizedSearchCV(RandomizedSearchCV):\n",
    "    def fit(self, X, y=None, **fit_params):\n",
    "        with tqdm(total=self.n_iter, desc=\"⚡ Random Search 진행중\") as pbar:\n",
    "            self._pbar = pbar\n",
    "            return super().fit(X, y, **fit_params)\n",
    "\n",
    "    def _run_search(self, evaluate_candidates):\n",
    "        def wrapped(candidate_params):\n",
    "            results = evaluate_candidates(candidate_params)\n",
    "            self._pbar.update(len(candidate_params))\n",
    "            return results\n",
    "        return super()._run_search(wrapped)\n",
    "\n",
    "# 5. 탐색기 정의 및 학습 시작\n",
    "random_search = TqdmRandomizedSearchCV(\n",
    "    estimator=xgb,\n",
    "    param_distributions=param_dist,\n",
    "    n_iter=20,  # 탐색 횟수: 20개\n",
    "    scoring='f1_weighted',\n",
    "    cv=3,\n",
    "    verbose=0,\n",
    "    random_state=42\n",
    ")\n",
    "\n",
    "random_search.fit(X3_tr_smote, y3_tr_smote_enc)\n",
    "\n",
    "# 6. 최적 모델 성능 평가\n",
    "best_xgb = random_search.best_estimator_\n",
    "y3_pred_enc = best_xgb.predict(X3_val)\n",
    "y3_pred = le.inverse_transform(y3_pred_enc)\n",
    "\n",
    "# 7. 리포트 및 시각화\n",
    "report_xgb = classification_report(y3_val, y3_pred, output_dict=True)\n",
    "report_df_xgb = pd.DataFrame(report_xgb).transpose()\n",
    "\n",
    "score_df = pd.DataFrame({\n",
    "    'Metric': ['accuracy', 'f1-score'],\n",
    "    'Score': [report_df_xgb.loc['accuracy']['precision'], report_df_xgb.loc['weighted avg']['f1-score']]\n",
    "})\n",
    "\n",
    "plt.figure(figsize=(6, 4))\n",
    "sns.barplot(data=score_df, x='Metric', y='Score')\n",
    "plt.ylim(0, 1)\n",
    "plt.title('SMOTE 기반 XGBoost 성능 (Random Search)')\n",
    "plt.tight_layout()\n",
    "plt.show()\n",
    "\n",
    "print(\"XGBoost 최적 파라미터:\", random_search.best_params_)\n",
    "print(\"XGBoost 성능 상세:\")\n",
    "print(report_df_xgb[['precision', 'recall', 'f1-score']])"
   ]
  },
  {
   "cell_type": "markdown",
   "metadata": {
    "id": "qI7MYbRYdoxh"
   },
   "source": [
    "SMOTE : CatBoost + RandomizedSearchCV"
   ]
  },
  {
   "cell_type": "code",
   "execution_count": null,
   "metadata": {
    "colab": {
     "base_uri": "https://localhost:8080/",
     "height": 666,
     "referenced_widgets": [
      "f5fc6fca5e524c17b18cd7018b08bebb",
      "dbf4348bffa9401db9eb2404dd7abc13",
      "407b3d50a4c24b92896cc9efdca182b9",
      "b15e7ad3152e49e0aedadfded54d4bf8",
      "cd9764e2aab249dcb6c24f1fb742336f",
      "1869abb634c24d468c74d1c29ac0a298",
      "6c9ef6bb0f7f49a48c893df8669f1ac9",
      "e6c1681479f44803ac4900184bd0a204",
      "a330f78b88f34c8ab6d20eacec670a84",
      "dbeffc0787ae47fa9b26e1f4865b4f72",
      "61fa993bde954cf1b547fdafd1047197"
     ]
    },
    "id": "QAnBQp1Od1tm",
    "outputId": "17e867f3-4056-4264-c281-7c0be2cc5238"
   },
   "outputs": [],
   "source": [
    "from catboost import CatBoostClassifier\n",
    "from sklearn.model_selection import RandomizedSearchCV\n",
    "from sklearn.preprocessing import LabelEncoder\n",
    "from sklearn.metrics import classification_report\n",
    "from scipy.stats import randint, uniform\n",
    "import pandas as pd\n",
    "import matplotlib.pyplot as plt\n",
    "import seaborn as sns\n",
    "from tqdm.auto import tqdm\n",
    "\n",
    "# 1. 레이블 인코딩\n",
    "le = LabelEncoder()\n",
    "y3_tr_smote_enc = le.fit_transform(y3_tr_smote)\n",
    "y3_val_enc = le.transform(y3_val)\n",
    "\n",
    "# 2. 파라미터 탐색 공간 정의\n",
    "param_dist = {\n",
    "    'depth': randint(4, 10),\n",
    "    'learning_rate': uniform(0.01, 0.2),\n",
    "    'iterations': randint(100, 500),\n",
    "    'l2_leaf_reg': uniform(1, 10),\n",
    "    'random_strength': uniform(0, 5)\n",
    "}\n",
    "\n",
    "# 3. CatBoost 모델 정의\n",
    "cat_model = CatBoostClassifier(\n",
    "    loss_function='MultiClass',\n",
    "    random_seed=42,\n",
    "    verbose=0\n",
    ")\n",
    "\n",
    "# 4. tqdm RandomizedSearchCV 래핑\n",
    "class TqdmRandomizedSearchCV(RandomizedSearchCV):\n",
    "    def fit(self, X, y=None, **fit_params):\n",
    "        with tqdm(total=self.n_iter, desc=\"⚡ Random Search 진행중 (CatBoost)\") as pbar:\n",
    "            self._pbar = pbar\n",
    "            return super().fit(X, y, **fit_params)\n",
    "\n",
    "    def _run_search(self, evaluate_candidates):\n",
    "        def wrapped(candidate_params):\n",
    "            results = evaluate_candidates(candidate_params)\n",
    "            self._pbar.update(len(candidate_params))\n",
    "            return results\n",
    "        return super()._run_search(wrapped)\n",
    "\n",
    "# 5. 탐색기 정의 및 학습\n",
    "random_search_cat = TqdmRandomizedSearchCV(\n",
    "    estimator=cat_model,\n",
    "    param_distributions=param_dist,\n",
    "    n_iter=20,\n",
    "    scoring='f1_weighted',\n",
    "    cv=3,\n",
    "    verbose=0,\n",
    "    random_state=42\n",
    ")\n",
    "\n",
    "random_search_cat.fit(X3_tr_smote, y3_tr_smote_enc)\n",
    "\n",
    "# 6. 예측\n",
    "best_cat = random_search_cat.best_estimator_\n",
    "y3_pred_enc = best_cat.predict(X3_val)\n",
    "y3_pred = le.inverse_transform(y3_pred_enc.flatten())\n",
    "\n",
    "# 7. 평가 및 출력\n",
    "report_cat = classification_report(y3_val, y3_pred, output_dict=True)\n",
    "report_df_cat = pd.DataFrame(report_cat).transpose()\n",
    "\n",
    "print(\"CatBoost 최적 파라미터:\", random_search_cat.best_params_)\n",
    "print(\"\\nCatBoost 성능 상세:\")\n",
    "print(report_df_cat[['precision', 'recall', 'f1-score']])\n",
    "\n",
    "# 8. 간단 시각화\n",
    "score_df = pd.DataFrame({\n",
    "    'Metric': ['accuracy', 'f1-score'],\n",
    "    'Score': [report_df_cat.loc['accuracy']['precision'], report_df_cat.loc['weighted avg']['f1-score']]\n",
    "})\n",
    "\n",
    "plt.figure(figsize=(6, 4))\n",
    "sns.barplot(data=score_df, x='Metric', y='Score')\n",
    "plt.ylim(0, 1)\n",
    "plt.title('SMOTE 기반 CatBoost 성능 (Random Search)')\n",
    "plt.tight_layout()\n",
    "splt.show()"
   ]
  },
  {
   "cell_type": "markdown",
   "metadata": {
    "id": "GoEytsSFMv31"
   },
   "source": [
    "Soft Voting 앙상블"
   ]
  },
  {
   "cell_type": "code",
   "execution_count": null,
   "metadata": {
    "colab": {
     "base_uri": "https://localhost:8080/",
     "height": 675
    },
    "id": "5DSmN1fkMunr",
    "outputId": "c42ecd49-f5ea-4f27-dc2e-ebc2fec9e37b"
   },
   "outputs": [],
   "source": [
    "from sklearn.ensemble import VotingClassifier\n",
    "from sklearn.preprocessing import LabelEncoder\n",
    "from sklearn.metrics import classification_report, confusion_matrix\n",
    "import matplotlib.pyplot as plt\n",
    "import seaborn as sns\n",
    "import pandas as pd\n",
    "\n",
    "# ✅ 1. 레이블 인코딩 (이미 한 경우 생략 가능)\n",
    "le = LabelEncoder()\n",
    "y3_tr_smote_enc = le.fit_transform(y3_tr_smote)\n",
    "y3_val_enc = le.transform(y3_val)\n",
    "\n",
    "# ✅ 2. Soft Voting 앙상블 정의\n",
    "voting_model = VotingClassifier(\n",
    "    estimators=[\n",
    "        ('xgb', best_xgb),   # ✅ RandomizedSearchCV 결과로 도출된 XGBoost\n",
    "        ('cat', best_cat)    # ✅ RandomizedSearchCV 결과로 도출된 CatBoost\n",
    "    ],\n",
    "    voting='soft'  # 확률 평균 방식\n",
    ")\n",
    "\n",
    "# ✅ 3. 학습\n",
    "voting_model.fit(X3_tr_smote, y3_tr_smote_enc)\n",
    "\n",
    "# ✅ 4. 예측 및 역변환\n",
    "y_pred_ens_enc = voting_model.predict(X3_val)\n",
    "y_pred_ens = le.inverse_transform(y_pred_ens_enc)\n",
    "\n",
    "# ✅ 5. 리포트 및 출력\n",
    "report_ens = classification_report(y3_val, y_pred_ens, output_dict=True)\n",
    "report_df_ens = pd.DataFrame(report_ens).transpose()\n",
    "\n",
    "print(\"\\n📊 [3-Class Classification Report - VotingClassifier (Soft)]\")\n",
    "print(report_df_ens[['precision', 'recall', 'f1-score']].round(3))\n",
    "\n",
    "# ✅ 6. Confusion Matrix\n",
    "cm = confusion_matrix(y3_val, y_pred_ens, labels=le.classes_)\n",
    "print(\"\\n[Confusion Matrix - VotingClassifier (Soft)]\")\n",
    "print(\"Labels:\", list(le.classes_))\n",
    "print(cm)\n",
    "\n",
    "# ✅ 7. 정확도 & F1-score 시각화\n",
    "score_df = pd.DataFrame({\n",
    "    'Metric': ['accuracy', 'f1-score'],\n",
    "    'Score': [\n",
    "        report_df_ens.loc['accuracy']['precision'],  # accuracy는 precision key에 저장됨\n",
    "        report_df_ens.loc['weighted avg']['f1-score']\n",
    "    ]\n",
    "})\n",
    "\n",
    "plt.figure(figsize=(6, 4))\n",
    "sns.barplot(data=score_df, x='Metric', y='Score')\n",
    "plt.ylim(0, 1)\n",
    "plt.title('VotingClassifier 성능 (SMOTE + XGBoost + CatBoost)')\n",
    "plt.tight_layout()\n",
    "plt.show()"
   ]
  },
  {
   "cell_type": "markdown",
   "metadata": {
    "id": "qYgK2GfdTgCr"
   },
   "source": [
    "SMOTE : LGBM + RandomizedSearchCV"
   ]
  },
  {
   "cell_type": "code",
   "execution_count": null,
   "metadata": {
    "colab": {
     "base_uri": "https://localhost:8080/",
     "height": 1000,
     "referenced_widgets": [
      "f8d09a1618f541df816123ca20720bc4",
      "75493f23840a4c34bbe7e44f9ab4ee1d",
      "ee6177e320fe42cd985dafda1f27c26c",
      "6a56f41b50ff481d840cce02702b1d5e",
      "b9f9166d77a34880bb1f73d8f51d01e0",
      "8d7877fbf7d440d9aa9cc41ecbff7b6a",
      "8ef8c282c65741438198fa7a715e40e6",
      "23c570a35d3041fd86185559f05360ce",
      "8ad1e148273d400bb310b1a335053f67",
      "6d310c1c51df47db81f8ea5b361a3a09",
      "cc5c13238ba14a0d8bfa645101757aaa"
     ]
    },
    "collapsed": true,
    "id": "Gy_3rosIUW7G",
    "outputId": "a850d0da-5265-4193-bc91-6b4ea66f5aae"
   },
   "outputs": [],
   "source": [
    "from lightgbm import LGBMClassifier\n",
    "from sklearn.model_selection import RandomizedSearchCV\n",
    "from sklearn.metrics import classification_report\n",
    "from sklearn.preprocessing import LabelEncoder\n",
    "from scipy.stats import randint, uniform\n",
    "import pandas as pd\n",
    "import matplotlib.pyplot as plt\n",
    "import seaborn as sns\n",
    "from tqdm.auto import tqdm\n",
    "\n",
    "# 1. 레이블 인코딩\n",
    "le = LabelEncoder()\n",
    "y3_tr_smote_enc = le.fit_transform(y3_tr_smote)\n",
    "y3_val_enc = le.transform(y3_val)\n",
    "\n",
    "# 2. 파라미터 탐색 공간 정의\n",
    "param_dist = {\n",
    "    'n_estimators': randint(100, 500),\n",
    "    'learning_rate': uniform(0.01, 0.2),\n",
    "    'max_depth': randint(3, 10),\n",
    "    'num_leaves': randint(15, 50),\n",
    "    'subsample': uniform(0.7, 0.3),\n",
    "    'colsample_bytree': uniform(0.7, 0.3),\n",
    "    'reg_alpha': uniform(0, 5),\n",
    "    'reg_lambda': uniform(0, 5)\n",
    "}\n",
    "\n",
    "# 3. LGBM 모델 정의\n",
    "lgbm = LGBMClassifier(\n",
    "    objective='multiclass',\n",
    "    random_state=42,\n",
    "    n_jobs=-1\n",
    ")\n",
    "\n",
    "# 4. 진행률 포함 RandomizedSearchCV 클래스 정의\n",
    "class TqdmRandomizedSearchCV(RandomizedSearchCV):\n",
    "    def fit(self, X, y=None, **fit_params):\n",
    "        with tqdm(total=self.n_iter, desc=\"🔍 LGBM Random Search\") as pbar:\n",
    "            self._pbar = pbar\n",
    "            return super().fit(X, y, **fit_params)\n",
    "\n",
    "    def _run_search(self, evaluate_candidates):\n",
    "        def wrapped(candidate_params):\n",
    "            results = evaluate_candidates(candidate_params)\n",
    "            self._pbar.update(len(candidate_params))\n",
    "            return results\n",
    "        return super()._run_search(wrapped)\n",
    "\n",
    "# 5. 탐색기 정의 및 학습\n",
    "random_search_lgbm = TqdmRandomizedSearchCV(\n",
    "    estimator=lgbm,\n",
    "    param_distributions=param_dist,\n",
    "    n_iter=20,\n",
    "    scoring='f1_weighted',\n",
    "    cv=3,\n",
    "    random_state=42\n",
    ")\n",
    "\n",
    "random_search_lgbm.fit(X3_tr_smote, y3_tr_smote_enc)\n",
    "\n",
    "# 6. 최적 모델 평가\n",
    "best_lgbm = random_search_lgbm.best_estimator_\n",
    "y3_pred_enc = best_lgbm.predict(X3_val)\n",
    "y3_pred = le.inverse_transform(y3_pred_enc)\n",
    "\n",
    "# 7. 리포트 및 시각화\n",
    "report_lgbm = classification_report(y3_val, y3_pred, output_dict=True)\n",
    "report_df_lgbm = pd.DataFrame(report_lgbm).transpose()\n",
    "\n",
    "score_df = pd.DataFrame({\n",
    "    'Metric': ['accuracy', 'f1-score'],\n",
    "    'Score': [report_df_lgbm.loc['accuracy']['precision'], report_df_lgbm.loc['weighted avg']['f1-score']]\n",
    "})\n",
    "\n",
    "plt.figure(figsize=(6, 4))\n",
    "sns.barplot(data=score_df, x='Metric', y='Score')\n",
    "plt.ylim(0, 1)\n",
    "plt.title('SMOTE 기반 LGBM 성능 (Random Search)')\n",
    "plt.tight_layout()\n",
    "plt.show()\n",
    "\n",
    "# 출력\n",
    "print(\"LGBM 최적 파라미터:\", random_search_lgbm.best_params_)\n",
    "print(\"LGBM 성능 상세:\")\n",
    "print(report_df_lgbm[['precision', 'recall', 'f1-score']])"
   ]
  },
  {
   "cell_type": "markdown",
   "metadata": {
    "id": "RkfsOYC5Yy2S"
   },
   "source": [
    "Soft Voting 앙상블 (SMOTE 기반 XGB + CAT + LGBM)"
   ]
  },
  {
   "cell_type": "code",
   "execution_count": null,
   "metadata": {
    "colab": {
     "base_uri": "https://localhost:8080/",
     "height": 675
    },
    "id": "cqnZml_KYwe_",
    "outputId": "7fa951ef-af9e-4fd6-e6c4-51833a0bb8d8"
   },
   "outputs": [],
   "source": [
    "from sklearn.ensemble import VotingClassifier\n",
    "from sklearn.metrics import classification_report, confusion_matrix\n",
    "import pandas as pd\n",
    "import matplotlib.pyplot as plt\n",
    "import seaborn as sns\n",
    "\n",
    "# 1. 레이블 인코딩 (재사용)\n",
    "y3_val_enc = le.transform(y3_val)\n",
    "\n",
    "# 2. Soft Voting 앙상블 구성\n",
    "voting_clf = VotingClassifier(\n",
    "    estimators=[\n",
    "        ('xgb', best_xgb),\n",
    "        ('cat', best_cat),\n",
    "        ('lgbm', best_lgbm)\n",
    "    ],\n",
    "    voting='soft',\n",
    "    n_jobs=-1\n",
    ")\n",
    "\n",
    "# 3. 앙상블 학습\n",
    "voting_clf.fit(X3_tr_smote, y3_tr_smote_enc)\n",
    "\n",
    "# 4. 예측 및 역변환\n",
    "y_pred_enc = voting_clf.predict(X3_val)\n",
    "y_pred = le.inverse_transform(y_pred_enc)\n",
    "\n",
    "# 5. 성능 평가\n",
    "report = classification_report(y3_val, y_pred, output_dict=True)\n",
    "report_df = pd.DataFrame(report).transpose()\n",
    "\n",
    "# 6. Confusion Matrix\n",
    "cm = confusion_matrix(y3_val, y_pred, labels=le.classes_)\n",
    "\n",
    "# 7. 정확도 및 f1-score 시각화\n",
    "score_df = pd.DataFrame({\n",
    "    'Metric': ['accuracy', 'f1-score'],\n",
    "    'Score': [report_df.loc['accuracy']['precision'], report_df.loc['weighted avg']['f1-score']]\n",
    "})\n",
    "\n",
    "plt.figure(figsize=(6, 4))\n",
    "sns.barplot(data=score_df, x='Metric', y='Score')\n",
    "plt.ylim(0, 1)\n",
    "plt.title('SMOTE 기반 Soft Voting 앙상블 성능 (XGB+CAT+LGBM)')\n",
    "plt.tight_layout()\n",
    "plt.show()\n",
    "\n",
    "# 8. 출력\n",
    "print(\"\\n[3-Class Classification Report - VotingClassifier (Soft)]\")\n",
    "print(report_df[['precision', 'recall', 'f1-score']].round(3))\n",
    "\n",
    "print(\"\\n[Confusion Matrix - VotingClassifier (Soft)]\")\n",
    "print(\"Labels:\", le.classes_.tolist())\n",
    "print(cm)"
   ]
  }
 ],
 "metadata": {
  "accelerator": "GPU",
  "colab": {
   "gpuType": "T4",
   "provenance": []
  },
  "kernelspec": {
   "display_name": "Python 3",
   "name": "python3"
  },
  "language_info": {
   "name": "python"
  }
 },
 "nbformat": 4,
 "nbformat_minor": 0
}
